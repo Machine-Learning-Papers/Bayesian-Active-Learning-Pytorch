{
 "cells": [
  {
   "cell_type": "code",
   "execution_count": null,
   "metadata": {
    "collapsed": true
   },
   "outputs": [],
   "source": [
    "import numpy as np\n",
    "\n",
    "import matplotlib.pyplot as plt\n",
    "%matplotlib inline\n",
    "plt.rcParams['figure.figsize'] = (12.0, 12.0) # set default size of plots\n",
    "plt.rcParams['image.interpolation'] = 'nearest'\n",
    "plt.rcParams['image.cmap'] = 'gray'\n",
    "\n"
   ]
  },
  {
   "cell_type": "code",
   "execution_count": null,
   "metadata": {
    "collapsed": true
   },
   "outputs": [],
   "source": [
    "data = {}\n",
    "funs = [\"BALD\",\"MEAN_STD\",\"RANDOM\",\"VAR_RATIOS\",\"MAX_ENTROPY\"]\n",
    "limited_vr = funs #[\"VAR_RATIOS\",\"RANDOM\"]\n",
    "train = {}\n",
    "val = {}\n",
    "test = {}\n",
    "train_accuracy= {}\n",
    "train_loss= {}\n",
    "test_accuracy = {}\n",
    "test_loss = {}\n",
    "val_accuracy = {}\n",
    "val_loss = {}\n",
    "for x in [\"test\",\"train\",\"val\"]:\n",
    "    data[x] = {}\n",
    "    for y in [\"acc\",\"loss\"]:\n",
    "        if x == \"train\" and y == \"acc\":\n",
    "            continue \n",
    "        data[x][y] = {}\n",
    "        for z in limited_vr:\n",
    "            #data[x][y][z] = np.load(\"q5_run_1/\"+x+\"_\"+y+\"_\"+z+\".npy\")\n",
    "            data[x][y][z] = np.load(\"ultimate_run/\"+x+\"_\"+y+\"_\"+z+\".npy\")\n",
    "#             data[x][y][z] += np.load(\"final_run_2/\"+x+\"_\"+y+\"_\"+z+\".npy\")\n",
    "#             data[x][y][z] += np.load(\"final_run_3/\"+x+\"_\"+y+\"_\"+z+\".npy\")\n",
    "#             data[x][y][z]/=3\n",
    "            \n"
   ]
  },
  {
   "cell_type": "code",
   "execution_count": null,
   "metadata": {
    "scrolled": false
   },
   "outputs": [],
   "source": [
    "colors = [\"r\",\"b\",\"g\",\"m\",\"y\"]\n",
    "x = np.array(range(2,100))\n",
    "Queries = np.arange(20, 1000, 5)\n",
    "\n",
    "\n",
    "for idx,z in enumerate(limited_vr):\n",
    "    plt.plot(Queries,np.array(data[\"val\"][\"acc\"][z]),colors[idx])\n",
    "plt.ylabel('Validation Accuracy')\n",
    "\n",
    "plt.xlabel ('Acquisition iterations ')\n",
    "plt.xlim(1,1000)\n",
    "plt.ylim(80,100)\n",
    "\n",
    "plt.show()\n",
    "\n",
    "\n",
    "colors = [\"r\",\"b\",\"g\",\"m\",\"y\"]\n",
    "x = np.array(range(2,100))\n",
    "\n",
    "\n",
    "for idx,z in enumerate(limited_vr):\n",
    "    plt.plot(Queries,np.array(data[\"test\"][\"acc\"][z]),colors[idx])\n",
    "plt.ylabel('Test Accuracy')\n",
    "\n",
    "plt.xlabel ('Acquisition iterations ')\n",
    "plt.ylim(90,100)\n",
    "\n",
    "plt.show()\n"
   ]
  },
  {
   "cell_type": "code",
   "execution_count": null,
   "metadata": {
    "collapsed": true
   },
   "outputs": [],
   "source": []
  },
  {
   "cell_type": "code",
   "execution_count": null,
   "metadata": {
    "collapsed": true
   },
   "outputs": [],
   "source": []
  }
 ],
 "metadata": {
  "anaconda-cloud": {},
  "kernelspec": {
   "display_name": "Python [conda root]",
   "language": "python",
   "name": "conda-root-py"
  },
  "language_info": {
   "codemirror_mode": {
    "name": "ipython",
    "version": 2
   },
   "file_extension": ".py",
   "mimetype": "text/x-python",
   "name": "python",
   "nbconvert_exporter": "python",
   "pygments_lexer": "ipython2",
   "version": "2.7.12"
  }
 },
 "nbformat": 4,
 "nbformat_minor": 2
}
