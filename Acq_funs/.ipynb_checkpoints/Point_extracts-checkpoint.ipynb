{
 "cells": [
  {
   "cell_type": "code",
   "execution_count": 1,
   "metadata": {
    "collapsed": true
   },
   "outputs": [],
   "source": [
    "import numpy as np\n",
    "\n",
    "import matplotlib.pyplot as plt\n",
    "%matplotlib inline\n",
    "plt.rcParams['figure.figsize'] = (12.0, 12.0) # set default size of plots\n",
    "plt.rcParams['image.interpolation'] = 'nearest'\n",
    "plt.rcParams['image.cmap'] = 'gray'\n",
    "\n"
   ]
  },
  {
   "cell_type": "code",
   "execution_count": null,
   "metadata": {
    "collapsed": true
   },
   "outputs": [],
   "source": [
    "data = {}\n",
    "funs = [\"VAR_RATIOS\",\"MAX_ENTROPY\", \"MEAN_STD\"]\n",
    "limited_vr = funs #[\"VAR_RATIOS\",\"RANDOM\"]\n",
    "train = {}\n",
    "val = {}\n",
    "test = {}\n",
    "train_accuracy= {}\n",
    "train_loss= {}\n",
    "test_accuracy = {}\n",
    "test_loss = {}\n",
    "val_accuracy = {}\n",
    "val_loss = {}\n",
    "for x in funs:\n",
    "    data[x] = {}\n",
    "    for y in [\"target\",\"target_all\",\"data_all\",\"scores\",\"scores_all\"]:\n",
    "        data[x][y] = np.load(x+\"_Points_\"+y+\".npy\")\n",
    "    \n"
   ]
  }
 ],
 "metadata": {
  "anaconda-cloud": {},
  "kernelspec": {
   "display_name": "Python [conda root]",
   "language": "python",
   "name": "conda-root-py"
  },
  "language_info": {
   "codemirror_mode": {
    "name": "ipython",
    "version": 2
   },
   "file_extension": ".py",
   "mimetype": "text/x-python",
   "name": "python",
   "nbconvert_exporter": "python",
   "pygments_lexer": "ipython2",
   "version": "2.7.12"
  }
 },
 "nbformat": 4,
 "nbformat_minor": 2
}
